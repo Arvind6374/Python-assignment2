{
 "cells": [
  {
   "cell_type": "code",
   "execution_count": 1,
   "metadata": {},
   "outputs": [
    {
     "name": "stdout",
     "output_type": "stream",
     "text": [
      "Addition: 13.0\n",
      "Subtraction: 7.0\n",
      "Multiplication: 30.0\n",
      "Division: 3.33\n",
      "Modulus: 1.0\n",
      "Exponentiation: 1000.0\n",
      "Floor Division: 3.0\n"
     ]
    }
   ],
   "source": [
    "# Program to perform arithmetic operations on two numbers\n",
    "\n",
    "# Input: Get two numbers from the user\n",
    "first_number = float(input(\"Enter first number: \"))\n",
    "second_number = float(input(\"Enter second number: \"))\n",
    "\n",
    "# Perform arithmetic operations\n",
    "addition = first_number + second_number\n",
    "subtraction = first_number - second_number\n",
    "multiplication = first_number * second_number\n",
    "division = first_number / second_number\n",
    "modulus = first_number % second_number\n",
    "exponentiation = first_number ** second_number\n",
    "floor_division = first_number // second_10number\n",
    "\n",
    "# Output: Display the results\n",
    "print(\"Addition:\", addition)\n",
    "print(\"Subtraction:\", subtraction)\n",
    "print(\"Multiplication:\", multiplication)\n",
    "print(\"Division: {:.2f}\".format(division))  # Formatting to 2 decimal places\n",
    "print(\"Modulus:\", modulus)\n",
    "print(\"Exponentiation:\", exponentiation)\n",
    "print(\"Floor Division:\", floor_division)"
   ]
  },
  {
   "cell_type": "code",
   "execution_count": 2,
   "metadata": {},
   "outputs": [
    {
     "name": "stdout",
     "output_type": "stream",
     "text": [
      "Is the first number greater than the second?: True\n",
      "Is the first number equal to the second?: False\n",
      "Is the first number less than or equal to the second?: False\n"
     ]
    }
   ],
   "source": [
    "# Program to compare two numbers\n",
    "\n",
    "# Input: Get two numbers from the user\n",
    "first_number = float(input(\"Enter first number: \"))\n",
    "second_number = float(input(\"Enter second number: \"))\n",
    "\n",
    "# Perform comparison operations\n",
    "is_greater = first_number > second_number\n",
    "is_equal = first_number == second_number\n",
    "is_less_equal = first_number <= second_number\n",
    "\n",
    "# Output: Display the results\n",
    "print(\"Is the first number greater than the second?:\", is_greater)\n",
    "print(\"Is the first number equal to the second?:\", is_equal)\n",
    "print(\"Is the first number less than or equal to the second?:\", is_less_equal)"
   ]
  },
  {
   "cell_type": "code",
   "execution_count": 3,
   "metadata": {},
   "outputs": [
    {
     "name": "stdout",
     "output_type": "stream",
     "text": [
      "Result of AND operation: False\n",
      "Result of OR operation: True\n",
      "NOT of first boolean value: False\n",
      "NOT of second boolean value: True\n",
      "NOT of third boolean value: False\n"
     ]
    }
   ],
   "source": [
    "# Program to combine three boolean values using logical operators\n",
    "\n",
    "# Input: Get three boolean values from the user\n",
    "# Note: User should input 'True' or 'False' as strings, which will be converted to boolean\n",
    "first_boolean = input(\"Enter first boolean value (True/False): \")\n",
    "second_boolean = input(\"Enter second boolean value (True/False): \")\n",
    "third_boolean = input(\"Enter third boolean value (True/False): \")\n",
    "\n",
    "# Convert string inputs to boolean\n",
    "first_boolean = first_boolean.lower() == 'true'\n",
    "second_boolean = second_boolean.lower() == 'true'\n",
    "third_boolean = third_boolean.lower() == 'true'\n",
    "\n",
    "# Combine the boolean values using logical operators\n",
    "and_result = first_boolean and second_boolean and third_boolean\n",
    "or_result = first_boolean or second_boolean or third_boolean\n",
    "not_first = not first_boolean\n",
    "not_second = not second_boolean\n",
    "not_third = not third_boolean\n",
    "\n",
    "# Output: Display the results\n",
    "print(\"Result of AND operation:\", and_result)\n",
    "print(\"Result of OR operation:\", or_result)\n",
    "print(\"NOT of first boolean value:\", not_first)\n",
    "print(\"NOT of second boolean value:\", not_second)\n",
    "print(\"NOT of third boolean value:\", not_third)"
   ]
  },
  {
   "cell_type": "code",
   "execution_count": 4,
   "metadata": {},
   "outputs": [
    {
     "name": "stdout",
     "output_type": "stream",
     "text": [
      "Length of the string: 3\n",
      "First character: R\n",
      "Last character: l\n",
      "String in reverse order: lbR\n",
      "String in uppercase: RBL\n",
      "String in lowercase: rbl\n"
     ]
    }
   ],
   "source": [
    "# Program for string manipulation\n",
    "\n",
    "# Input: Get a string from the user\n",
    "user_string = input(\"Enter a string: \")\n",
    "\n",
    "# Perform string manipulations\n",
    "string_length = len(user_string)  # Length of the string\n",
    "first_character = user_string[0] if user_string else \"N/A\"  # First character\n",
    "last_character = user_string[-1] if user_string else \"N/A\"  # Last character\n",
    "reversed_string = user_string[::-1]  # String in reverse order\n",
    "uppercase_string = user_string.upper()  # String in uppercase\n",
    "lowercase_string = user_string.lower()  # String in lowercase\n",
    "\n",
    "# Output: Display the results\n",
    "print(\"Length of the string:\", string_length)\n",
    "print(\"First character:\", first_character)\n",
    "print(\"Last character:\", last_character)\n",
    "print(\"String in reverse order:\", reversed_string)\n",
    "print(\"String in uppercase:\", uppercase_string)\n",
    "print(\"String in lowercase:\", lowercase_string)"
   ]
  },
  {
   "cell_type": "code",
   "execution_count": 7,
   "metadata": {},
   "outputs": [
    {
     "name": "stdout",
     "output_type": "stream",
     "text": [
      "Hello ARVIND, you are 20 years old.\n"
     ]
    }
   ],
   "source": [
    "# Program for string formatting\n",
    "\n",
    "# Input: Get the user's name and age\n",
    "user_name = input(\"Enter your name: \")\n",
    "user_age = input(\"Enter your age: \")\n",
    "\n",
    "# Output: Display the formatted message\n",
    "print(f\"Hello {user_name}, you are {user_age} years old.\")"
   ]
  },
  {
   "cell_type": "code",
   "execution_count": 8,
   "metadata": {},
   "outputs": [
    {
     "name": "stdout",
     "output_type": "stream",
     "text": [
      "The word 'bengaluru' exists in the sentence at index 5.\n"
     ]
    }
   ],
   "source": [
    "# Program to search for a word in a sentence\n",
    "\n",
    "# Input: Get a sentence and a word from the user\n",
    "user_sentence = input(\"Enter a sentence: \")\n",
    "search_word = input(\"Enter a word to search: \")\n",
    "\n",
    "# Convert the sentence to lowercase and split it into words\n",
    "sentence_words = user_sentence.lower().split()\n",
    "\n",
    "# Check if the word exists in the sentence\n",
    "if search_word.lower() in sentence_words:\n",
    "    # Find the index of the word in the sentence\n",
    "    word_index = sentence_words.index(search_word.lower())\n",
    "    print(f\"The word '{search_word}' exists in the sentence at index {word_index}.\")\n",
    "else:\n",
    "    print(f\"The word '{search_word}' does not exist in the sentence.\")"
   ]
  },
  {
   "cell_type": "code",
   "execution_count": 9,
   "metadata": {},
   "outputs": [
    {
     "name": "stdout",
     "output_type": "stream",
     "text": [
      "Sum of all numbers: 354.0\n",
      "Largest number: 88.0\n",
      "Smallest number: 55.0\n"
     ]
    }
   ],
   "source": [
    "# Program to create a list of numbers and perform operations\n",
    "\n",
    "# Input: Create an empty list\n",
    "numbers = []\n",
    "\n",
    "# Get 5 numbers from the user\n",
    "for i in range(5):\n",
    "    number = float(input(f\"Enter number {i + 1}: \"))  # Convert input to float for numerical operations\n",
    "    numbers.append(number)  # Add the number to the list\n",
    "\n",
    "# Calculate the sum of the numbers\n",
    "total_sum = sum(numbers)\n",
    "\n",
    "# Find the largest and smallest number in the list\n",
    "largest_number = max(numbers)\n",
    "smallest_number = min(numbers)\n",
    "\n",
    "# Output: Display the results\n",
    "print(\"Sum of all numbers:\", total_sum)\n",
    "print(\"Largest number:\", largest_number)\n",
    "print(\"Smallest number:\", smallest_number)"
   ]
  },
  {
   "cell_type": "code",
   "execution_count": 10,
   "metadata": {},
   "outputs": [
    {
     "name": "stdout",
     "output_type": "stream",
     "text": [
      "Updated list of fruits: ['Apple', 'Cherry', 'Date', 'Elderberry', 'Fig']\n"
     ]
    }
   ],
   "source": [
    "# Program for list manipulation of favorite fruits\n",
    "\n",
    "# Step 1: Create a list of 5 favorite fruits\n",
    "fruits = [\"Apple\", \"Banana\", \"Cherry\", \"Date\", \"Elderberry\"]\n",
    "\n",
    "# Step 2: Add one more fruit to the list\n",
    "fruits.append(\"Fig\")  # Adding 'Fig' to the list\n",
    "\n",
    "# Remove the second fruit from the list (index 1)\n",
    "fruits.pop(1)  # This removes 'Banana'\n",
    "\n",
    "# Step 3: Print the updated list\n",
    "print(\"Updated list of fruits:\", fruits)"
   ]
  },
  {
   "cell_type": "code",
   "execution_count": 11,
   "metadata": {},
   "outputs": [
    {
     "name": "stdout",
     "output_type": "stream",
     "text": [
      "List in ascending order: [56.0, 66.0, 73.0, 76.0, 99.0]\n",
      "List in descending order: [99.0, 76.0, 73.0, 66.0, 56.0]\n"
     ]
    }
   ],
   "source": [
    "# Program to sort a list of numbers in ascending and descending order\n",
    "\n",
    "# Step 1: Ask the user to input a list of 5 numbers\n",
    "numbers = []\n",
    "for i in range(5):\n",
    "    number = float(input(f\"Enter number {i + 1}: \"))  # Convert input to float for numerical operations\n",
    "    numbers.append(number)  # Add the number to the list\n",
    "\n",
    "# Step 2: Sort the list in ascending order and display it\n",
    "numbers_ascending = sorted(numbers)\n",
    "print(\"List in ascending order:\", numbers_ascending)\n",
    "\n",
    "# Step 3: Sort the list in descending order and display it\n",
    "numbers_descending = sorted(numbers, reverse=True)\n",
    "print(\"List in descending order:\", numbers_descending)"
   ]
  },
  {
   "cell_type": "code",
   "execution_count": 12,
   "metadata": {},
   "outputs": [
    {
     "name": "stdout",
     "output_type": "stream",
     "text": [
      "First 5 elements: [1, 2, 3, 4, 5]\n",
      "Last 5 elements: [6, 7, 8, 9, 10]\n",
      "Elements from index 2 to 7: [3, 4, 5, 6, 7, 8]\n"
     ]
    }
   ],
   "source": [
    "# Given list of numbers\n",
    "numbers = [1, 2, 3, 4, 5, 6, 7, 8, 9, 10]\n",
    "\n",
    "# Step 1: Print the first 5 elements\n",
    "first_five = numbers[:5]  # Slicing to get the first 5 elements\n",
    "print(\"First 5 elements:\", first_five)\n",
    "\n",
    "# Step 2: Print the last 5 elements\n",
    "last_five = numbers[-5:]  # Slicing to get the last 5 elements\n",
    "print(\"Last 5 elements:\", last_five)\n",
    "\n",
    "# Step 3: Print the elements from index 2 to index 7\n",
    "elements_index_2_to_7 = numbers[2:8]  # Slicing from index 2 to 7 (index 8 is exclusive)\n",
    "print(\"Elements from index 2 to 7:\", elements_index_2_to_7)"
   ]
  },
  {
   "cell_type": "code",
   "execution_count": null,
   "metadata": {},
   "outputs": [],
   "source": []
  }
 ],
 "metadata": {
  "kernelspec": {
   "display_name": "Python 3",
   "language": "python",
   "name": "python3"
  },
  "language_info": {
   "codemirror_mode": {
    "name": "ipython",
    "version": 3
   },
   "file_extension": ".py",
   "mimetype": "text/x-python",
   "name": "python",
   "nbconvert_exporter": "python",
   "pygments_lexer": "ipython3",
   "version": "3.7.8"
  }
 },
 "nbformat": 4,
 "nbformat_minor": 2
}
